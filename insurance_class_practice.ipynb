{
 "cells": [
  {
   "cell_type": "code",
   "execution_count": 1,
   "id": "322dfcd0-96ef-4927-8cb7-380d1cf6151a",
   "metadata": {},
   "outputs": [
    {
     "name": "stdout",
     "output_type": "stream",
     "text": [
      "John Doe\n",
      "John Doe's estimated insurance cost is 1836.0 dollars\n",
      "John Doe is now 26 years old\n",
      "John Doe's estimated insurance cost is 2086.0 dollars\n",
      "John Doe has 1 child.\n",
      "John Doe's estimated insurance cost is 2511.0 dollars\n",
      "{'name': 'John Doe', 'age': 26, 'sex': 1, 'bmi': 22.2, 'num_of_children': 1, 'smoker': 0}\n"
     ]
    }
   ],
   "source": [
    "class Patient:\n",
    "  def __init__(self, name, age, sex, bmi, num_of_children, smoker):\n",
    "    self.name = name\n",
    "    self.age = age\n",
    "    # add more parameters here\n",
    "    self.sex = sex\n",
    "    self.bmi = bmi\n",
    "    self.num_of_children = num_of_children\n",
    "    self.smoker = smoker\n",
    "\n",
    "  def estimated_insurance_cost(self):\n",
    "    self.estimated_cost = 250 * self.age - 128 * self.sex +370 * self.bmi + 425 * self.num_of_children + 24000 * self.smoker - 12500\n",
    "    \n",
    "    return(\"{name}'s estimated insurance cost is {estimated_cost} dollars\".format(name = self.name, estimated_cost = self.estimated_cost ))\n",
    "\n",
    "  def update_age(self, new_age):\n",
    "      self.age = new_age\n",
    "      self.estimated_insurance_cost()\n",
    "      return \"{name} is now {age} years old\".format(name = self.name, age = self.age)\n",
    "  \n",
    "  def update_num_children(self, new_num_children):\n",
    "    self.num_of_children = new_num_children\n",
    "    if self.num_of_children == 1:\n",
    "      return \"{name} has {num_of_children} child.\". format(name = self.name, num_of_children = self.num_of_children)\n",
    "    else:\n",
    "      return ( \"{name} has {num_of_children} children.\". format(name = self.name, num_of_children = self.num_of_children))\n",
    "\n",
    "  def patient_profile(self):\n",
    "    patient_information = {}\n",
    "    patient_information[\"name\"] = self.name\n",
    "    patient_information[\"age\"] = self.age\n",
    "    patient_information[\"sex\"] = self.sex\n",
    "    patient_information[\"bmi\"] = self.bmi\n",
    "    patient_information[\"num_of_children\"] = self.num_of_children\n",
    "    patient_information[\"smoker\"] = self.smoker\n",
    "    return patient_information\n",
    "\n",
    "    \n",
    "\n",
    "patient1 = Patient(\"John Doe\", 25, 1, 22.2, 0, 0)\n",
    "\n",
    "print(patient1.name)\n",
    "print(patient1.estimated_insurance_cost())\n",
    "print(patient1.update_age(26))\n",
    "#After updating the age\n",
    "print(patient1.estimated_insurance_cost())\n",
    "\n",
    "#After updating the number of children \n",
    "print(patient1.update_num_children(1))\n",
    "\n",
    "#After age and number of children update\n",
    "print(patient1.estimated_insurance_cost())\n",
    "\n",
    "print(patient1.patient_profile())"
   ]
  },
  {
   "cell_type": "code",
   "execution_count": null,
   "id": "71eed510-f88a-4e2e-9364-5abe4b4c91a3",
   "metadata": {},
   "outputs": [],
   "source": []
  },
  {
   "cell_type": "code",
   "execution_count": null,
   "id": "3a884eed-e81f-421d-8fc7-f6c4db3ac98c",
   "metadata": {},
   "outputs": [],
   "source": []
  }
 ],
 "metadata": {
  "kernelspec": {
   "display_name": "Python 3 (ipykernel)",
   "language": "python",
   "name": "python3"
  },
  "language_info": {
   "codemirror_mode": {
    "name": "ipython",
    "version": 3
   },
   "file_extension": ".py",
   "mimetype": "text/x-python",
   "name": "python",
   "nbconvert_exporter": "python",
   "pygments_lexer": "ipython3",
   "version": "3.9.7"
  }
 },
 "nbformat": 4,
 "nbformat_minor": 5
}
